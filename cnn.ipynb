{
  "nbformat": 4,
  "nbformat_minor": 0,
  "metadata": {
    "colab": {
      "provenance": []
    },
    "kernelspec": {
      "name": "python3",
      "display_name": "Python 3"
    },
    "language_info": {
      "name": "python"
    }
  },
  "cells": [
    {
      "cell_type": "code",
      "execution_count": 1,
      "metadata": {
        "id": "zqU9AibKcxk4"
      },
      "outputs": [],
      "source": [
        "import matplotlib.pyplot as plt\n",
        "import numpy as np\n",
        "import torchvision\n",
        "import tensorflow as tf\n",
        "import torch\n",
        "import torch.nn as nn\n",
        "import torch.nn.functional as F\n",
        "import torch.optim as optim\n",
        "from torch.utils.data import DataLoader, Dataset, TensorDataset\n",
        "from torchvision.io import read_image, ImageReadMode\n",
        "from pathlib import Path\n",
        "from sklearn.preprocessing import LabelEncoder\n",
        "from PIL import Image, ImageDraw, ImageFont\n",
        "from torchvision import transforms\n",
        "import random\n",
        "import os\n",
        "import zipfile\n",
        "\n",
        "from sklearn.model_selection import train_test_split\n",
        "from torchvision.models import resnet50, ResNet50_Weights"
      ]
    },
    {
      "cell_type": "code",
      "source": [
        "from google.colab import drive"
      ],
      "metadata": {
        "id": "89f4uvwAc0-P"
      },
      "execution_count": 2,
      "outputs": []
    },
    {
      "cell_type": "code",
      "source": [
        "drive.mount('/content/drive')"
      ],
      "metadata": {
        "colab": {
          "base_uri": "https://localhost:8080/"
        },
        "id": "I4On474Pc_mE",
        "outputId": "e1950525-9067-4e25-ae20-3bd1111f1471"
      },
      "execution_count": 3,
      "outputs": [
        {
          "output_type": "stream",
          "name": "stdout",
          "text": [
            "Drive already mounted at /content/drive; to attempt to forcibly remount, call drive.mount(\"/content/drive\", force_remount=True).\n"
          ]
        }
      ]
    },
    {
      "cell_type": "code",
      "source": [
        "!ls '/content/drive/MyDrive/Team 5/img/test_img'"
      ],
      "metadata": {
        "colab": {
          "base_uri": "https://localhost:8080/"
        },
        "id": "LyYQ0dvCdBIv",
        "outputId": "ed30dc45-60c0-4495-b743-bef5ab09246c"
      },
      "execution_count": 4,
      "outputs": [
        {
          "output_type": "stream",
          "name": "stdout",
          "text": [
            "banana.png  box_A.png  box_B.png  box_C.png  monkey.png\n"
          ]
        }
      ]
    },
    {
      "cell_type": "code",
      "source": [
        "categories = [\"banana\", \"monkey\", \"box_A\", \"box_B\", \"box_C\", \"box_D\"]"
      ],
      "metadata": {
        "id": "a3RCM_bYdnhe"
      },
      "execution_count": 5,
      "outputs": []
    },
    {
      "cell_type": "code",
      "source": [
        "cat_to_label = {\"banana\": 0, \"monkey\": 1, \"box_A\": 2, \"box_B\": 3, \"box_C\": 4, \"box_D\": 5}"
      ],
      "metadata": {
        "id": "_w2Q37M9vGzR"
      },
      "execution_count": 6,
      "outputs": []
    },
    {
      "cell_type": "code",
      "source": [
        "root_dir =  '/content/drive/MyDrive/Team 5/img/train_img'"
      ],
      "metadata": {
        "id": "hKlIXa2FoOKr"
      },
      "execution_count": 7,
      "outputs": []
    },
    {
      "cell_type": "code",
      "source": [
        "cat_label = []\n",
        "path_label = []\n",
        "images = []\n",
        "\n",
        "for label_folder in os.listdir(root_dir):\n",
        "    label_path = os.path.join(root_dir, label_folder)\n",
        "    if os.path.isdir(label_path):\n",
        "      for file_name in os.listdir(label_path):\n",
        "        file_path = os.path.join(label_path, file_name)\n",
        "        if file_name.lower().endswith(('.png')):\n",
        "            img = Image.open(file_path).convert(\"RGB\")\n",
        "            resize_transform = transforms.Resize((32, 32))\n",
        "            img_resized = resize_transform(img)\n",
        "\n",
        "            to_tensor = transforms.ToTensor()\n",
        "            img_tensor = to_tensor(img_resized)\n",
        "\n",
        "            images.append(img_tensor)\n",
        "            cat_label.append(label_folder)\n",
        "            path_label.append(file_path)\n"
      ],
      "metadata": {
        "id": "6w6I40tndt_O"
      },
      "execution_count": 8,
      "outputs": []
    },
    {
      "cell_type": "code",
      "source": [
        "cat_label"
      ],
      "metadata": {
        "colab": {
          "base_uri": "https://localhost:8080/"
        },
        "id": "9Q_6zMycdwdQ",
        "outputId": "fd71ab35-3a38-4842-c2eb-915b2847895d"
      },
      "execution_count": 9,
      "outputs": [
        {
          "output_type": "execute_result",
          "data": {
            "text/plain": [
              "['monkey',\n",
              " 'monkey',\n",
              " 'monkey',\n",
              " 'monkey',\n",
              " 'monkey',\n",
              " 'monkey',\n",
              " 'monkey',\n",
              " 'monkey',\n",
              " 'box_C',\n",
              " 'box_C',\n",
              " 'box_C',\n",
              " 'box_C',\n",
              " 'box_C',\n",
              " 'box_C',\n",
              " 'box_C',\n",
              " 'box_B',\n",
              " 'box_B',\n",
              " 'box_B',\n",
              " 'box_B',\n",
              " 'box_B',\n",
              " 'box_B',\n",
              " 'box_B',\n",
              " 'box_B',\n",
              " 'box_A',\n",
              " 'box_A',\n",
              " 'box_A',\n",
              " 'box_A',\n",
              " 'box_A',\n",
              " 'box_A',\n",
              " 'box_A',\n",
              " 'box_A',\n",
              " 'box_D',\n",
              " 'box_D',\n",
              " 'banana',\n",
              " 'banana',\n",
              " 'banana',\n",
              " 'banana',\n",
              " 'banana',\n",
              " 'banana',\n",
              " 'banana',\n",
              " 'banana',\n",
              " 'banana',\n",
              " 'banana',\n",
              " 'banana',\n",
              " 'banana',\n",
              " 'banana',\n",
              " 'banana',\n",
              " 'banana',\n",
              " 'banana',\n",
              " 'banana',\n",
              " 'banana']"
            ]
          },
          "metadata": {},
          "execution_count": 9
        }
      ]
    },
    {
      "cell_type": "code",
      "source": [
        "path_label"
      ],
      "metadata": {
        "colab": {
          "base_uri": "https://localhost:8080/"
        },
        "id": "p-A0RtU2dyzR",
        "outputId": "88f7ada7-62e1-4e7f-e2b5-c9c64ac62efa"
      },
      "execution_count": 10,
      "outputs": [
        {
          "output_type": "execute_result",
          "data": {
            "text/plain": [
              "['/content/drive/MyDrive/Team 5/img/train_img/monkey/ROI_27.png',\n",
              " '/content/drive/MyDrive/Team 5/img/train_img/monkey/ROI_6.png',\n",
              " '/content/drive/MyDrive/Team 5/img/train_img/monkey/ROI_13.png',\n",
              " '/content/drive/MyDrive/Team 5/img/train_img/monkey/ROI_32.png',\n",
              " '/content/drive/MyDrive/Team 5/img/train_img/monkey/ROI_39.png',\n",
              " '/content/drive/MyDrive/Team 5/img/train_img/monkey/ROI_50.png',\n",
              " '/content/drive/MyDrive/Team 5/img/train_img/monkey/ROI_20.png',\n",
              " '/content/drive/MyDrive/Team 5/img/train_img/monkey/ROI_46.png',\n",
              " '/content/drive/MyDrive/Team 5/img/train_img/box_C/ROI_30.png',\n",
              " '/content/drive/MyDrive/Team 5/img/train_img/box_C/ROI_42.png',\n",
              " '/content/drive/MyDrive/Team 5/img/train_img/box_C/ROI_34.png',\n",
              " '/content/drive/MyDrive/Team 5/img/train_img/box_C/ROI_1.png',\n",
              " '/content/drive/MyDrive/Team 5/img/train_img/box_C/ROI_23.png',\n",
              " '/content/drive/MyDrive/Team 5/img/train_img/box_C/ROI_12.png',\n",
              " '/content/drive/MyDrive/Team 5/img/train_img/box_C/ROI_16.png',\n",
              " '/content/drive/MyDrive/Team 5/img/train_img/box_B/ROI_11.png',\n",
              " '/content/drive/MyDrive/Team 5/img/train_img/box_B/ROI_43.png',\n",
              " '/content/drive/MyDrive/Team 5/img/train_img/box_B/ROI_18.png',\n",
              " '/content/drive/MyDrive/Team 5/img/train_img/box_B/ROI_3.png',\n",
              " '/content/drive/MyDrive/Team 5/img/train_img/box_B/ROI_47.png',\n",
              " '/content/drive/MyDrive/Team 5/img/train_img/box_B/ROI_24.png',\n",
              " '/content/drive/MyDrive/Team 5/img/train_img/box_B/ROI_29.png',\n",
              " '/content/drive/MyDrive/Team 5/img/train_img/box_B/ROI_36.png',\n",
              " '/content/drive/MyDrive/Team 5/img/train_img/box_A/ROI_48.png',\n",
              " '/content/drive/MyDrive/Team 5/img/train_img/box_A/ROI_10.png',\n",
              " '/content/drive/MyDrive/Team 5/img/train_img/box_A/ROI_17.png',\n",
              " '/content/drive/MyDrive/Team 5/img/train_img/box_A/ROI_31.png',\n",
              " '/content/drive/MyDrive/Team 5/img/train_img/box_A/ROI_35.png',\n",
              " '/content/drive/MyDrive/Team 5/img/train_img/box_A/ROI_22.png',\n",
              " '/content/drive/MyDrive/Team 5/img/train_img/box_A/ROI_44.png',\n",
              " '/content/drive/MyDrive/Team 5/img/train_img/box_A/ROI_2.png',\n",
              " '/content/drive/MyDrive/Team 5/img/train_img/box_D/ROI_0.png',\n",
              " '/content/drive/MyDrive/Team 5/img/train_img/box_D/ROI_33.png',\n",
              " '/content/drive/MyDrive/Team 5/img/train_img/banana/ROI_5.png',\n",
              " '/content/drive/MyDrive/Team 5/img/train_img/banana/ROI_37.png',\n",
              " '/content/drive/MyDrive/Team 5/img/train_img/banana/ROI_25.png',\n",
              " '/content/drive/MyDrive/Team 5/img/train_img/banana/ROI_9.png',\n",
              " '/content/drive/MyDrive/Team 5/img/train_img/banana/ROI_26.png',\n",
              " '/content/drive/MyDrive/Team 5/img/train_img/banana/ROI_21.png',\n",
              " '/content/drive/MyDrive/Team 5/img/train_img/banana/ROI_38.png',\n",
              " '/content/drive/MyDrive/Team 5/img/train_img/banana/ROI_8.png',\n",
              " '/content/drive/MyDrive/Team 5/img/train_img/banana/ROI_28.png',\n",
              " '/content/drive/MyDrive/Team 5/img/train_img/banana/ROI_14.png',\n",
              " '/content/drive/MyDrive/Team 5/img/train_img/banana/ROI_4.png',\n",
              " '/content/drive/MyDrive/Team 5/img/train_img/banana/ROI_15.png',\n",
              " '/content/drive/MyDrive/Team 5/img/train_img/banana/ROI_40.png',\n",
              " '/content/drive/MyDrive/Team 5/img/train_img/banana/ROI_41.png',\n",
              " '/content/drive/MyDrive/Team 5/img/train_img/banana/ROI_19.png',\n",
              " '/content/drive/MyDrive/Team 5/img/train_img/banana/ROI_45.png',\n",
              " '/content/drive/MyDrive/Team 5/img/train_img/banana/ROI_7.png',\n",
              " '/content/drive/MyDrive/Team 5/img/train_img/banana/ROI_49.png']"
            ]
          },
          "metadata": {},
          "execution_count": 10
        }
      ]
    },
    {
      "cell_type": "code",
      "source": [
        "len(images)"
      ],
      "metadata": {
        "colab": {
          "base_uri": "https://localhost:8080/"
        },
        "id": "AAXZDlLkd0Gm",
        "outputId": "8b333c9b-109c-4bee-fd0b-b7ed9eb586a1"
      },
      "execution_count": 11,
      "outputs": [
        {
          "output_type": "execute_result",
          "data": {
            "text/plain": [
              "51"
            ]
          },
          "metadata": {},
          "execution_count": 11
        }
      ]
    },
    {
      "cell_type": "code",
      "source": [
        "images = torch.stack(images)"
      ],
      "metadata": {
        "id": "dUsGBUIwudkY"
      },
      "execution_count": 12,
      "outputs": []
    },
    {
      "cell_type": "code",
      "source": [
        "model = nn.Sequential(\n",
        "    nn.Conv2d(in_channels=3, out_channels=32, kernel_size=3, stride=1, padding=1),\n",
        "    nn.ReLU(),\n",
        "    nn.MaxPool2d(kernel_size=2, stride=2),\n",
        "\n",
        "    nn.Conv2d(in_channels=32, out_channels=64, kernel_size=3, stride=1, padding=1),\n",
        "    nn.ReLU(),\n",
        "    nn.MaxPool2d(kernel_size=2, stride=2),\n",
        "\n",
        "    nn.Conv2d(in_channels=64, out_channels=128, kernel_size=3, stride=1, padding=1),\n",
        "    nn.ReLU(),\n",
        "    nn.MaxPool2d(kernel_size=2, stride=2),\n",
        "\n",
        "    nn.Flatten(),\n",
        "\n",
        "    nn.Linear(128 * 4* 4, 128),\n",
        "    nn.ReLU(),\n",
        "    nn.Dropout(0.5),\n",
        "    nn.Linear(128, 6)\n",
        ")"
      ],
      "metadata": {
        "id": "fG3-LBofe1vz"
      },
      "execution_count": 13,
      "outputs": []
    },
    {
      "cell_type": "code",
      "source": [
        "criterion = nn.CrossEntropyLoss()\n",
        "optimizer = optim.Adam(model.parameters(), lr=0.001)"
      ],
      "metadata": {
        "id": "Dcb8yInte4_u"
      },
      "execution_count": 14,
      "outputs": []
    },
    {
      "cell_type": "code",
      "source": [
        "X_train, X_test, y_train, y_test = train_test_split(images, cat_label, test_size=0.25, random_state=51)"
      ],
      "metadata": {
        "id": "zZVwRbsktwWE"
      },
      "execution_count": 15,
      "outputs": []
    },
    {
      "cell_type": "code",
      "source": [
        "X_train, X_val, y_train, y_val = train_test_split(X_train, y_train, test_size=0.25, random_state=51)"
      ],
      "metadata": {
        "id": "XekN9ETNuJTP"
      },
      "execution_count": 16,
      "outputs": []
    },
    {
      "cell_type": "code",
      "source": [
        "label_encoder = LabelEncoder()\n",
        "y_train_int = label_encoder.fit_transform(y_train)\n",
        "y_test_int = label_encoder.transform(y_test)"
      ],
      "metadata": {
        "id": "LGcL4soAvZTs"
      },
      "execution_count": 17,
      "outputs": []
    },
    {
      "cell_type": "code",
      "source": [
        "X_train_tensor = X_train.float()\n",
        "y_train_tensor = torch.tensor(y_train_int, dtype=torch.long)\n",
        "\n",
        "X_test_tensor = X_test.float()\n",
        "y_test_tensor = torch.tensor(y_test_int, dtype=torch.long)\n",
        "\n",
        "train_dataset = TensorDataset(X_train_tensor, y_train_tensor)\n",
        "test_dataset = TensorDataset(X_test_tensor, y_test_tensor)\n",
        "\n",
        "batch_size = 2\n",
        "train_loader = DataLoader(train_dataset, batch_size=batch_size, shuffle=True)\n",
        "test_loader = DataLoader(test_dataset, batch_size=batch_size, shuffle=False)\n"
      ],
      "metadata": {
        "id": "H3jHSn4Tur-R"
      },
      "execution_count": 18,
      "outputs": []
    },
    {
      "cell_type": "code",
      "source": [
        "X_train_tensor.shape"
      ],
      "metadata": {
        "colab": {
          "base_uri": "https://localhost:8080/"
        },
        "id": "uTvq3W_EgGtr",
        "outputId": "8fdbb968-bafd-4f80-f3af-960bb95abed9"
      },
      "execution_count": 19,
      "outputs": [
        {
          "output_type": "execute_result",
          "data": {
            "text/plain": [
              "torch.Size([28, 3, 32, 32])"
            ]
          },
          "metadata": {},
          "execution_count": 19
        }
      ]
    },
    {
      "cell_type": "code",
      "source": [
        "X_test_tensor.shape"
      ],
      "metadata": {
        "colab": {
          "base_uri": "https://localhost:8080/"
        },
        "id": "swfN81cUgIym",
        "outputId": "0063b216-c46c-4ada-a476-062a4aee6f0b"
      },
      "execution_count": 20,
      "outputs": [
        {
          "output_type": "execute_result",
          "data": {
            "text/plain": [
              "torch.Size([13, 3, 32, 32])"
            ]
          },
          "metadata": {},
          "execution_count": 20
        }
      ]
    },
    {
      "cell_type": "code",
      "source": [
        "num_epochs = 100\n",
        "for epoch in range(num_epochs):\n",
        "    model.train()\n",
        "    running_loss = 0.0\n",
        "    correct = 0\n",
        "    total = 0\n",
        "\n",
        "    for inputs, labels in train_loader:\n",
        "        optimizer.zero_grad()\n",
        "\n",
        "        outputs = model(inputs)\n",
        "        loss = criterion(outputs, labels)\n",
        "\n",
        "        loss.backward()\n",
        "        optimizer.step()\n",
        "\n",
        "        running_loss += loss.item()\n",
        "        _, predicted = torch.max(outputs, 1)\n",
        "        total += labels.size(0)\n",
        "        correct += (predicted == labels).sum().item()\n",
        "\n",
        "    epoch_loss = running_loss / len(train_loader)\n",
        "    epoch_accuracy = 100 * correct / total\n",
        "    print(f\"Epoch [{epoch+1}/{num_epochs}], Loss: {epoch_loss:.4f}, Accuracy: {epoch_accuracy:.2f}%\")"
      ],
      "metadata": {
        "colab": {
          "base_uri": "https://localhost:8080/"
        },
        "id": "LQ1UgOKBfOi3",
        "outputId": "e809a083-7e3d-4bb6-ce72-83e4c0a202a2"
      },
      "execution_count": 21,
      "outputs": [
        {
          "output_type": "stream",
          "name": "stdout",
          "text": [
            "Epoch [1/100], Loss: 1.7770, Accuracy: 14.29%\n",
            "Epoch [2/100], Loss: 1.6276, Accuracy: 32.14%\n",
            "Epoch [3/100], Loss: 1.4712, Accuracy: 35.71%\n",
            "Epoch [4/100], Loss: 1.3138, Accuracy: 46.43%\n",
            "Epoch [5/100], Loss: 1.1812, Accuracy: 50.00%\n",
            "Epoch [6/100], Loss: 1.0384, Accuracy: 57.14%\n",
            "Epoch [7/100], Loss: 0.9978, Accuracy: 57.14%\n",
            "Epoch [8/100], Loss: 0.8719, Accuracy: 57.14%\n",
            "Epoch [9/100], Loss: 0.7277, Accuracy: 64.29%\n",
            "Epoch [10/100], Loss: 0.7005, Accuracy: 71.43%\n",
            "Epoch [11/100], Loss: 0.8077, Accuracy: 64.29%\n",
            "Epoch [12/100], Loss: 0.7817, Accuracy: 75.00%\n",
            "Epoch [13/100], Loss: 0.7484, Accuracy: 64.29%\n",
            "Epoch [14/100], Loss: 0.6846, Accuracy: 67.86%\n",
            "Epoch [15/100], Loss: 0.6478, Accuracy: 71.43%\n",
            "Epoch [16/100], Loss: 0.6548, Accuracy: 67.86%\n",
            "Epoch [17/100], Loss: 0.6882, Accuracy: 64.29%\n",
            "Epoch [18/100], Loss: 0.5944, Accuracy: 78.57%\n",
            "Epoch [19/100], Loss: 0.5471, Accuracy: 82.14%\n",
            "Epoch [20/100], Loss: 0.4902, Accuracy: 82.14%\n",
            "Epoch [21/100], Loss: 0.3809, Accuracy: 92.86%\n",
            "Epoch [22/100], Loss: 0.3818, Accuracy: 82.14%\n",
            "Epoch [23/100], Loss: 0.5643, Accuracy: 85.71%\n",
            "Epoch [24/100], Loss: 0.4562, Accuracy: 89.29%\n",
            "Epoch [25/100], Loss: 0.3744, Accuracy: 92.86%\n",
            "Epoch [26/100], Loss: 0.1940, Accuracy: 96.43%\n",
            "Epoch [27/100], Loss: 0.1242, Accuracy: 96.43%\n",
            "Epoch [28/100], Loss: 0.1646, Accuracy: 96.43%\n",
            "Epoch [29/100], Loss: 0.2443, Accuracy: 89.29%\n",
            "Epoch [30/100], Loss: 0.2663, Accuracy: 96.43%\n",
            "Epoch [31/100], Loss: 0.2430, Accuracy: 92.86%\n",
            "Epoch [32/100], Loss: 0.1526, Accuracy: 92.86%\n",
            "Epoch [33/100], Loss: 0.1656, Accuracy: 96.43%\n",
            "Epoch [34/100], Loss: 0.1405, Accuracy: 96.43%\n",
            "Epoch [35/100], Loss: 0.1489, Accuracy: 96.43%\n",
            "Epoch [36/100], Loss: 0.1472, Accuracy: 92.86%\n",
            "Epoch [37/100], Loss: 0.1052, Accuracy: 96.43%\n",
            "Epoch [38/100], Loss: 0.1793, Accuracy: 96.43%\n",
            "Epoch [39/100], Loss: 0.0795, Accuracy: 100.00%\n",
            "Epoch [40/100], Loss: 0.1510, Accuracy: 96.43%\n",
            "Epoch [41/100], Loss: 0.0872, Accuracy: 96.43%\n",
            "Epoch [42/100], Loss: 0.1462, Accuracy: 92.86%\n",
            "Epoch [43/100], Loss: 0.0326, Accuracy: 100.00%\n",
            "Epoch [44/100], Loss: 0.1376, Accuracy: 96.43%\n",
            "Epoch [45/100], Loss: 0.0460, Accuracy: 100.00%\n",
            "Epoch [46/100], Loss: 0.1060, Accuracy: 96.43%\n",
            "Epoch [47/100], Loss: 0.2672, Accuracy: 89.29%\n",
            "Epoch [48/100], Loss: 0.2852, Accuracy: 92.86%\n",
            "Epoch [49/100], Loss: 0.2761, Accuracy: 92.86%\n",
            "Epoch [50/100], Loss: 0.1368, Accuracy: 96.43%\n",
            "Epoch [51/100], Loss: 0.1172, Accuracy: 96.43%\n",
            "Epoch [52/100], Loss: 0.1084, Accuracy: 96.43%\n",
            "Epoch [53/100], Loss: 0.1303, Accuracy: 96.43%\n",
            "Epoch [54/100], Loss: 0.1841, Accuracy: 92.86%\n",
            "Epoch [55/100], Loss: 0.0752, Accuracy: 96.43%\n",
            "Epoch [56/100], Loss: 0.0687, Accuracy: 96.43%\n",
            "Epoch [57/100], Loss: 0.0736, Accuracy: 96.43%\n",
            "Epoch [58/100], Loss: 0.0705, Accuracy: 100.00%\n",
            "Epoch [59/100], Loss: 0.0537, Accuracy: 100.00%\n",
            "Epoch [60/100], Loss: 0.0323, Accuracy: 96.43%\n",
            "Epoch [61/100], Loss: 0.0324, Accuracy: 100.00%\n",
            "Epoch [62/100], Loss: 0.0356, Accuracy: 100.00%\n",
            "Epoch [63/100], Loss: 0.0155, Accuracy: 100.00%\n",
            "Epoch [64/100], Loss: 0.0115, Accuracy: 100.00%\n",
            "Epoch [65/100], Loss: 0.1131, Accuracy: 96.43%\n",
            "Epoch [66/100], Loss: 0.0069, Accuracy: 100.00%\n",
            "Epoch [67/100], Loss: 0.0143, Accuracy: 100.00%\n",
            "Epoch [68/100], Loss: 0.0087, Accuracy: 100.00%\n",
            "Epoch [69/100], Loss: 0.0196, Accuracy: 100.00%\n",
            "Epoch [70/100], Loss: 0.0365, Accuracy: 100.00%\n",
            "Epoch [71/100], Loss: 0.0067, Accuracy: 100.00%\n",
            "Epoch [72/100], Loss: 0.0005, Accuracy: 100.00%\n",
            "Epoch [73/100], Loss: 0.0060, Accuracy: 100.00%\n",
            "Epoch [74/100], Loss: 0.0037, Accuracy: 100.00%\n",
            "Epoch [75/100], Loss: 0.0024, Accuracy: 100.00%\n",
            "Epoch [76/100], Loss: 0.0020, Accuracy: 100.00%\n",
            "Epoch [77/100], Loss: 0.0007, Accuracy: 100.00%\n",
            "Epoch [78/100], Loss: 0.0025, Accuracy: 100.00%\n",
            "Epoch [79/100], Loss: 0.0185, Accuracy: 100.00%\n",
            "Epoch [80/100], Loss: 0.2009, Accuracy: 96.43%\n",
            "Epoch [81/100], Loss: 0.0585, Accuracy: 100.00%\n",
            "Epoch [82/100], Loss: 0.0893, Accuracy: 96.43%\n",
            "Epoch [83/100], Loss: 0.0225, Accuracy: 100.00%\n",
            "Epoch [84/100], Loss: 0.0169, Accuracy: 100.00%\n",
            "Epoch [85/100], Loss: 0.0296, Accuracy: 100.00%\n",
            "Epoch [86/100], Loss: 0.0079, Accuracy: 100.00%\n",
            "Epoch [87/100], Loss: 0.0110, Accuracy: 100.00%\n",
            "Epoch [88/100], Loss: 0.0047, Accuracy: 100.00%\n",
            "Epoch [89/100], Loss: 0.0009, Accuracy: 100.00%\n",
            "Epoch [90/100], Loss: 0.0011, Accuracy: 100.00%\n",
            "Epoch [91/100], Loss: 0.0047, Accuracy: 100.00%\n",
            "Epoch [92/100], Loss: 0.0015, Accuracy: 100.00%\n",
            "Epoch [93/100], Loss: 0.0041, Accuracy: 100.00%\n",
            "Epoch [94/100], Loss: 0.0012, Accuracy: 100.00%\n",
            "Epoch [95/100], Loss: 0.0018, Accuracy: 100.00%\n",
            "Epoch [96/100], Loss: 0.0040, Accuracy: 100.00%\n",
            "Epoch [97/100], Loss: 0.0360, Accuracy: 100.00%\n",
            "Epoch [98/100], Loss: 0.0154, Accuracy: 100.00%\n",
            "Epoch [99/100], Loss: 0.0048, Accuracy: 100.00%\n",
            "Epoch [100/100], Loss: 0.0014, Accuracy: 100.00%\n"
          ]
        }
      ]
    },
    {
      "cell_type": "code",
      "source": [
        "model.eval()\n",
        "val_correct = 0\n",
        "val_total = 0\n",
        "with torch.no_grad():\n",
        "    for val_inputs, val_labels in test_loader:\n",
        "        val_outputs = model(val_inputs)\n",
        "        _, val_predicted = torch.max(val_outputs, 1)\n",
        "        val_total += val_labels.size(0)\n",
        "        val_correct += (val_predicted == val_labels).sum().item()\n",
        "\n",
        "val_accuracy = 100 * val_correct / val_total\n",
        "print(f\"Test Accuracy: {val_accuracy:.2f}%\")\n"
      ],
      "metadata": {
        "id": "O9YKyUGEfbwN",
        "colab": {
          "base_uri": "https://localhost:8080/"
        },
        "outputId": "3ff75496-29dc-4005-e558-2b15de0e74da"
      },
      "execution_count": 22,
      "outputs": [
        {
          "output_type": "stream",
          "name": "stdout",
          "text": [
            "Test Accuracy: 100.00%\n"
          ]
        }
      ]
    },
    {
      "cell_type": "code",
      "source": [
        "torch.save(model.state_dict(), 'cnn.pth')"
      ],
      "metadata": {
        "id": "Ala077tUjLU1"
      },
      "execution_count": 23,
      "outputs": []
    },
    {
      "cell_type": "code",
      "source": [],
      "metadata": {
        "id": "C58CRRoOhNUU"
      },
      "execution_count": null,
      "outputs": []
    }
  ]
}